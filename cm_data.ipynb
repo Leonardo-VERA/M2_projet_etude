{
 "cells": [
  {
   "cell_type": "markdown",
   "metadata": {},
   "source": [
    "### ANALYSE DES FICHIERS PROVENANT DE ORACLE ESSBASE"
   ]
  },
  {
   "cell_type": "markdown",
   "metadata": {},
   "source": [
    "Le code Python récupère les informations du document XLSM, telles que le nom, la quantité de contrats (à partir de la ligne 12), ainsi qu'une estimation de la taille de chaque feuille en octets."
   ]
  },
  {
   "cell_type": "code",
   "execution_count": 1,
   "metadata": {},
   "outputs": [
    {
     "name": "stderr",
     "output_type": "stream",
     "text": [
      "<>:4: SyntaxWarning: invalid escape sequence '\\p'\n",
      "<>:4: SyntaxWarning: invalid escape sequence '\\p'\n",
      "C:\\Users\\User\\AppData\\Local\\Temp\\ipykernel_22284\\696053736.py:4: SyntaxWarning: invalid escape sequence '\\p'\n",
      "  chemin_fichier = 'C:\\\\LEONARDO\\\\GEMA IA SCHOOL\\projet 2024\\\\donnesCubesRaiF_MAC.xlsm'\n"
     ]
    },
    {
     "name": "stdout",
     "output_type": "stream",
     "text": [
      "Feuille: CTI, Nombre de contrats: 354, Taille estimée: 1321120 octets\n",
      "Feuille: RTX, Nombre de contrats: 313, Taille estimée: 599840 octets\n",
      "Feuille: CTE, Nombre de contrats: 4753, Taille estimée: 8769440 octets\n",
      "Feuille: Takargo, Nombre de contrats: 498, Taille estimée: 940240 octets\n",
      "Feuille: Ibercargo, Nombre de contrats: 21, Taille estimée: 62560 octets\n",
      "Feuille: FWD SAS, Nombre de contrats: 248, Taille estimée: 480240 octets\n",
      "Feuille: FWD GMBH, Nombre de contrats: 731, Taille estimée: 1368960 octets\n",
      "Feuille: CTD, Nombre de contrats: 762, Taille estimée: 1426000 octets\n",
      "Feuille: CTF, Nombre de contrats: 0, Taille estimée: 23920 octets\n",
      "Taille totale du fichier: 5949518 octets\n"
     ]
    }
   ],
   "source": [
    "import openpyxl\n",
    "import os\n",
    "\n",
    "chemin_fichier = 'C:\\\\LEONARDO\\\\GEMA IA SCHOOL\\projet 2024\\\\donnesCubesRaiF_MAC.xlsm'\n",
    "\n",
    "# Charger le document Excel\n",
    "wb = openpyxl.load_workbook(chemin_fichier, keep_vba=True)\n",
    "\n",
    "# Obtenir la taille du fichier\n",
    "taille_fichier = os.path.getsize(chemin_fichier)\n",
    "\n",
    "info = []\n",
    "\n",
    "for nom_feuille in wb.sheetnames:\n",
    "    ws = wb[nom_feuille]\n",
    "    \n",
    "    nombre_contrats = 0\n",
    "    for row in ws.iter_rows(min_row=12, min_col=1, max_col=1, values_only=True):\n",
    "        if any(row):  \n",
    "            nombre_contrats += 1\n",
    "\n",
    "    nombre_lignes = ws.max_row\n",
    "    nombre_colonnes = ws.max_column\n",
    "    \n",
    "    taille_feuille_octets = nombre_lignes * nombre_colonnes * 8  # estimation de la taille\n",
    "\n",
    "    infos_feuille = {\n",
    "        \"nom_feuille\": nom_feuille,\n",
    "        \"nombre_contrats\": nombre_contrats,\n",
    "        \"taille_feuille_octets\": taille_feuille_octets\n",
    "    }\n",
    "    \n",
    "    info.append(infos_feuille)\n",
    "\n",
    "# Afficher les informations\n",
    "for feuille in info:\n",
    "    print(f\"Feuille: {feuille['nom_feuille']}, Nombre de contrats: {feuille['nombre_contrats']}, Taille estimée: {feuille['taille_feuille_octets']} octets\")\n",
    "\n",
    "print(f\"Taille totale du fichier: {taille_fichier} octets\")\n"
   ]
  },
  {
   "cell_type": "markdown",
   "metadata": {},
   "source": [
    "###  CREATION DE MACROS DANS LE FICHIER EXCEL POUR UN MEILLEUR CONTROLE DES DONNEES"
   ]
  },
  {
   "cell_type": "markdown",
   "metadata": {},
   "source": [
    "Voici les codes macros Visual Basic utilisés dans le fichier donnesCubesRaiF_MAC.xlsm."
   ]
  },
  {
   "cell_type": "code",
   "execution_count": null,
   "metadata": {
    "vscode": {
     "languageId": "vb"
    }
   },
   "outputs": [],
   "source": [
    "' Changer l'annee vers 2024 dans toutes les feuilles dans touts les colonnes pertinentes\n",
    "Sub ChangerAnnee2024()\n",
    "    Dim ws As Worksheet\n",
    "    Dim plage As Range\n",
    "    Dim texteOriginal As String\n",
    "    Dim texteNouveau As String\n",
    "   \n",
    "    ' Définir le texte original que vous souhaitez remplacer\n",
    "    texteOriginal = \"2023\"\n",
    "    ' Définir le nouveau texte que vous souhaitez utiliser\n",
    "    texteNouveau = \"2024\"\n",
    "   \n",
    "    ' Parcourir chaque feuille de calcul dans le classeur\n",
    "    For Each ws In ThisWorkbook.Worksheets\n",
    "        ' Spécifier la plage de cellules dans la ligne 5 où rechercher dans la feuille de calcul actuelle\n",
    "        Set plage = ws.Rows(5)\n",
    "       \n",
    "        ' Remplacer le texte original par le nouveau texte dans la plage spécifiée\n",
    "        plage.Replace What:=texteOriginal, Replacement:=texteNouveau, _\n",
    "            LookAt:=xlWhole, SearchOrder:=xlByRows, MatchCase:=False, _\n",
    "            SearchFormat:=False, ReplaceFormat:=False\n",
    "    Next ws\n",
    "End Sub"
   ]
  },
  {
   "cell_type": "code",
   "execution_count": null,
   "metadata": {
    "vscode": {
     "languageId": "vb"
    }
   },
   "outputs": [],
   "source": [
    "' Changer l'annee vers 2023 dans toutes les feuilles dans touts les colonnes pertinentes\n",
    "Sub ChangerAnnee2023()\n",
    "    Dim ws As Worksheet\n",
    "    Dim plage As Range\n",
    "    Dim texteOriginal As String\n",
    "    Dim texteNouveau As String\n",
    "   \n",
    "    ' Définir le texte original que vous souhaitez remplacer\n",
    "    texteOriginal = \"2024\"\n",
    "    ' Définir le nouveau texte que vous souhaitez utiliser\n",
    "    texteNouveau = \"2023\"\n",
    "   \n",
    "    ' Parcourir chaque feuille de calcul dans le classeur\n",
    "    For Each ws In ThisWorkbook.Worksheets\n",
    "        ' Spécifier la plage de cellules dans la ligne 5 où rechercher dans la feuille de calcul actuelle\n",
    "        Set plage = ws.Rows(5)\n",
    "       \n",
    "        ' Remplacer le texte original par le nouveau texte dans la plage spécifiée\n",
    "        plage.Replace What:=texteOriginal, Replacement:=texteNouveau, _\n",
    "            LookAt:=xlWhole, SearchOrder:=xlByRows, MatchCase:=False, _\n",
    "            SearchFormat:=False, ReplaceFormat:=False\n",
    "    Next ws\n",
    "End Sub"
   ]
  },
  {
   "cell_type": "code",
   "execution_count": null,
   "metadata": {
    "vscode": {
     "languageId": "vb"
    }
   },
   "outputs": [],
   "source": [
    "' Vérifier toutes les colonnes pertinentes en effectuant un calcul de la somme de tous les détails à partir de la 2e colonne\n",
    "' en commençant à partir de la 12e ligne verticalement, cela doit correspondre à la somme totale trouvée dans la ligne 11\n",
    "' Répéter ce processus dans toutes les feuilles\n",
    "' Afficher un resume du resultat dans un MsgBox\n",
    "Sub VerifierDonnees()\n",
    "    Dim feuille As Worksheet\n",
    "    Dim total As Double\n",
    "    Dim somme As Double\n",
    "    Dim derniereLigne As Long\n",
    "    Dim cellule As Range\n",
    "    Dim col As Integer\n",
    "    Dim precision As Double\n",
    "    Dim messageDiscrepances As String\n",
    "\n",
    "    precision = 0.01 ' Définir la précision pour la comparaison\n",
    "    messageDiscrepances = \"Les feuilles suivantes ont des colonnes avec des discordances : \" & vbCrLf\n",
    "\n",
    "    On Error GoTo GestionErreur ' Gestion des erreurs\n",
    "\n",
    "    For Each feuille In ThisWorkbook.Worksheets\n",
    "        Dim feuilleHasDiscrepancy As Boolean\n",
    "        Dim columnDiscrepancies As Integer\n",
    "        feuilleHasDiscrepancy = False\n",
    "        columnDiscrepancies = 0\n",
    "        For col = 3 To 230 ' Colonnes C (3) jusqu'à HV (230)\n",
    "            If IsNumeric(feuille.Cells(11, col).Value) Then\n",
    "                total = CDbl(feuille.Cells(11, col).Value) ' Total dans la ligne 11 de la colonne actuelle\n",
    "            Else\n",
    "                total = 0\n",
    "            End If\n",
    "            somme = 0\n",
    "            derniereLigne = feuille.Cells(feuille.Rows.Count, col).End(xlUp).Row ' Trouve la dernière ligne avec des données dans la colonne actuelle\n",
    "\n",
    "            For Each cellule In feuille.Range(feuille.Cells(12, col), feuille.Cells(derniereLigne, col))\n",
    "                If IsNumeric(cellule.Value) Then\n",
    "                    somme = somme + CDbl(cellule.Value)\n",
    "                End If\n",
    "            Next cellule\n",
    "\n",
    "            ' Afficher le résultat à la fin de la colonne vérifiée\n",
    "            If Abs(somme - total) > precision Then\n",
    "                feuille.Cells(derniereLigne + 1, col).Value = \"Discordance : Total = \" & Format(total, \"0.00\") & \", Somme = \" & Format(somme, \"0.00\")\n",
    "                feuille.Cells(derniereLigne + 2, col).Interior.Color = RGB(255, 0, 0) ' Peindre en rouge\n",
    "                feuilleHasDiscrepancy = True\n",
    "                columnDiscrepancies = columnDiscrepancies + 1\n",
    "            Else\n",
    "                feuille.Cells(derniereLigne + 1, col).Value = \"Correct : Total = \" & Format(total, \"0.00\") & \", Somme = \" & Format(somme, \"0.00\")\n",
    "                feuille.Cells(derniereLigne + 2, col).Interior.Color = RGB(0, 255, 0) ' Peindre en vert\n",
    "            End If\n",
    "        Next col\n",
    "\n",
    "        If feuilleHasDiscrepancy Then\n",
    "            messageDiscrepances = messageDiscrepances & feuille.Name & \" : \" & columnDiscrepancies & \" colonnes avec des discordances\" & vbCrLf\n",
    "        End If\n",
    "    Next feuille\n",
    "\n",
    "    MsgBox messageDiscrepances\n",
    "\n",
    "    Exit Sub\n",
    "\n",
    "GestionErreur:\n",
    "    MsgBox \"Erreur \" & Err.Number & \" : \" & Err.Description\n",
    "End Sub"
   ]
  },
  {
   "cell_type": "code",
   "execution_count": null,
   "metadata": {
    "vscode": {
     "languageId": "vb"
    }
   },
   "outputs": [],
   "source": [
    "'Nottoyage des tests une foit lancé la macro de verification\n",
    "Sub EffacerResultats()\n",
    "    Dim feuille As Worksheet\n",
    "    Dim derniereLigne As Long\n",
    "    Dim cellule As Range\n",
    "    Dim col As Integer\n",
    "\n",
    "    On Error GoTo GestionErreur ' Gestion des erreurs\n",
    "\n",
    "    For Each feuille In ThisWorkbook.Worksheets\n",
    "        For col = 3 To 230 ' Colonnes C (3) jusqu'à HV (230)\n",
    "            derniereLigne = feuille.Cells(feuille.Rows.Count, col).End(xlUp).Row ' Trouve la dernière ligne avec des données dans la colonne actuelle\n",
    "\n",
    "            ' Parcourt de la ligne 12 à la dernière ligne avec des données\n",
    "            For Each cellule In feuille.Range(feuille.Cells(12, col), feuille.Cells(derniereLigne, col))\n",
    "                If cellule.Value Like \"Correct*\" Or cellule.Value Like \"Discordance*\" Then\n",
    "                    cellule.ClearContents ' Efface le contenu de la cellule\n",
    "                    cellule.Offset(1, 0).Interior.ColorIndex = xlNone ' Efface la couleur de la cellule en dessous\n",
    "                End If\n",
    "            Next cellule\n",
    "        Next col\n",
    "    Next feuille\n",
    "\n",
    "    Exit Sub\n",
    "\n",
    "GestionErreur:\n",
    "    MsgBox \"Erreur \" & Err.Number & \" : \" & Err.Description\n",
    "End Sub\n"
   ]
  },
  {
   "cell_type": "markdown",
   "metadata": {},
   "source": [
    "### DIVISION DE FICHIERS XLSM EN CSV POUR FAIRE LE PASSAGE VERS BIG QUERY"
   ]
  },
  {
   "cell_type": "markdown",
   "metadata": {},
   "source": [
    "Le prochain script créera un fichier CSV pour chaque feuille de ton fichier Excel, et les enregistrera dans le même dossier où se trouve le fichier .xlsm. Chaque fichier CSV portera le nom de la feuille correspondante."
   ]
  },
  {
   "cell_type": "code",
   "execution_count": null,
   "metadata": {},
   "outputs": [
    {
     "name": "stderr",
     "output_type": "stream",
     "text": [
      "<>:4: SyntaxWarning: invalid escape sequence '\\p'\n",
      "<>:13: SyntaxWarning: invalid escape sequence '\\p'\n",
      "<>:4: SyntaxWarning: invalid escape sequence '\\p'\n",
      "<>:13: SyntaxWarning: invalid escape sequence '\\p'\n",
      "C:\\Users\\User\\AppData\\Local\\Temp\\ipykernel_22284\\1059033561.py:4: SyntaxWarning: invalid escape sequence '\\p'\n",
      "  chemin_fichier = 'C:\\\\LEONARDO\\\\GEMA IA SCHOOL\\projet 2024\\\\donnesCubesRaiF_MAC.xlsm'\n",
      "C:\\Users\\User\\AppData\\Local\\Temp\\ipykernel_22284\\1059033561.py:13: SyntaxWarning: invalid escape sequence '\\p'\n",
      "  df.to_csv(f'C:\\\\LEONARDO\\\\GEMA IA SCHOOL\\projet 2024\\\\{sheet_name}.csv', index=False)\n"
     ]
    }
   ],
   "source": [
    "import pandas as pd\n",
    "\n",
    "# Chemin du fichier Excel\n",
    "chemin_fichier = 'C:\\\\LEONARDO\\\\GEMA IA SCHOOL\\projet 2024\\\\donnesCubesRaiF_MAC.xlsm'\n",
    "\n",
    "# Charger le fichier Excel\n",
    "xls = pd.ExcelFile(chemin_fichier)\n",
    "\n",
    "# Itérer sur chaque feuille du fichier Excel et l'enregistrer sous forme de CSV\n",
    "for sheet_name in xls.sheet_names:\n",
    "    df = pd.read_excel(xls, sheet_name=sheet_name)\n",
    "    # Enregistrer la feuille en tant que fichier CSV, en utilisant le nom de la feuille\n",
    "    df.to_csv(f'C:\\\\LEONARDO\\\\GEMA IA SCHOOL\\projet 2024\\\\{sheet_name}.csv', index=False)\n"
   ]
  }
 ],
 "metadata": {
  "kernelspec": {
   "display_name": "Python 3",
   "language": "python",
   "name": "python3"
  },
  "language_info": {
   "codemirror_mode": {
    "name": "ipython",
    "version": 3
   },
   "file_extension": ".py",
   "mimetype": "text/x-python",
   "name": "python",
   "nbconvert_exporter": "python",
   "pygments_lexer": "ipython3",
   "version": "3.12.5"
  }
 },
 "nbformat": 4,
 "nbformat_minor": 2
}
